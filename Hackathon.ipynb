{
  "cells": [
    {
      "cell_type": "markdown",
      "id": "fb950256",
      "metadata": {
        "id": "fb950256",
        "papermill": {
          "duration": 0.011806,
          "end_time": "2022-05-26T22:27:56.853271",
          "exception": false,
          "start_time": "2022-05-26T22:27:56.841465",
          "status": "completed"
        },
        "tags": []
      },
      "source": [
        "### Importing the Libraries"
      ]
    },
    {
      "cell_type": "code",
      "execution_count": 1,
      "id": "aa074a1f",
      "metadata": {},
      "outputs": [
        {
          "name": "stdout",
          "output_type": "stream",
          "text": [
            "Requirement already satisfied: numpy in c:\\users\\jaleena\\appdata\\local\\programs\\python\\python311\\lib\\site-packages (1.25.2)\n",
            "Note: you may need to restart the kernel to use updated packages.\n"
          ]
        }
      ],
      "source": [
        "pip install numpy\n"
      ]
    },
    {
      "cell_type": "code",
      "execution_count": 2,
      "id": "3672a927",
      "metadata": {},
      "outputs": [
        {
          "name": "stdout",
          "output_type": "stream",
          "text": [
            "Requirement already satisfied: pandas in c:\\users\\jaleena\\appdata\\local\\programs\\python\\python311\\lib\\site-packages (2.1.0)\n",
            "Requirement already satisfied: numpy>=1.23.2 in c:\\users\\jaleena\\appdata\\local\\programs\\python\\python311\\lib\\site-packages (from pandas) (1.25.2)\n",
            "Requirement already satisfied: python-dateutil>=2.8.2 in c:\\users\\jaleena\\appdata\\roaming\\python\\python311\\site-packages (from pandas) (2.8.2)\n",
            "Requirement already satisfied: pytz>=2020.1 in c:\\users\\jaleena\\appdata\\local\\programs\\python\\python311\\lib\\site-packages (from pandas) (2023.3.post1)\n",
            "Requirement already satisfied: tzdata>=2022.1 in c:\\users\\jaleena\\appdata\\local\\programs\\python\\python311\\lib\\site-packages (from pandas) (2023.3)\n",
            "Requirement already satisfied: six>=1.5 in c:\\users\\jaleena\\appdata\\roaming\\python\\python311\\site-packages (from python-dateutil>=2.8.2->pandas) (1.16.0)\n",
            "Note: you may need to restart the kernel to use updated packages.\n"
          ]
        }
      ],
      "source": [
        "pip install pandas\n"
      ]
    },
    {
      "cell_type": "code",
      "execution_count": 3,
      "id": "e6b8ab0e",
      "metadata": {},
      "outputs": [
        {
          "name": "stdout",
          "output_type": "stream",
          "text": [
            "Requirement already satisfied: nltk in c:\\users\\jaleena\\appdata\\local\\programs\\python\\python311\\lib\\site-packages (3.8.1)Note: you may need to restart the kernel to use updated packages.\n",
            "\n",
            "Requirement already satisfied: click in c:\\users\\jaleena\\appdata\\local\\programs\\python\\python311\\lib\\site-packages (from nltk) (8.1.7)\n",
            "Requirement already satisfied: joblib in c:\\users\\jaleena\\appdata\\local\\programs\\python\\python311\\lib\\site-packages (from nltk) (1.3.2)\n",
            "Requirement already satisfied: regex>=2021.8.3 in c:\\users\\jaleena\\appdata\\local\\programs\\python\\python311\\lib\\site-packages (from nltk) (2023.8.8)\n",
            "Requirement already satisfied: tqdm in c:\\users\\jaleena\\appdata\\local\\programs\\python\\python311\\lib\\site-packages (from nltk) (4.66.1)\n",
            "Requirement already satisfied: colorama in c:\\users\\jaleena\\appdata\\roaming\\python\\python311\\site-packages (from click->nltk) (0.4.6)\n"
          ]
        }
      ],
      "source": [
        "pip install nltk\n"
      ]
    },
    {
      "cell_type": "code",
      "execution_count": 4,
      "id": "65f4b672",
      "metadata": {},
      "outputs": [
        {
          "name": "stdout",
          "output_type": "stream",
          "text": [
            "Requirement already satisfied: matplotlib in c:\\users\\jaleena\\appdata\\local\\programs\\python\\python311\\lib\\site-packages (3.7.3)\n",
            "Requirement already satisfied: contourpy>=1.0.1 in c:\\users\\jaleena\\appdata\\local\\programs\\python\\python311\\lib\\site-packages (from matplotlib) (1.1.0)\n",
            "Requirement already satisfied: cycler>=0.10 in c:\\users\\jaleena\\appdata\\local\\programs\\python\\python311\\lib\\site-packages (from matplotlib) (0.11.0)\n",
            "Requirement already satisfied: fonttools>=4.22.0 in c:\\users\\jaleena\\appdata\\local\\programs\\python\\python311\\lib\\site-packages (from matplotlib) (4.42.1)\n",
            "Requirement already satisfied: kiwisolver>=1.0.1 in c:\\users\\jaleena\\appdata\\local\\programs\\python\\python311\\lib\\site-packages (from matplotlib) (1.4.5)\n",
            "Requirement already satisfied: numpy<2,>=1.20 in c:\\users\\jaleena\\appdata\\local\\programs\\python\\python311\\lib\\site-packages (from matplotlib) (1.25.2)\n",
            "Requirement already satisfied: packaging>=20.0 in c:\\users\\jaleena\\appdata\\roaming\\python\\python311\\site-packages (from matplotlib) (23.1)\n",
            "Requirement already satisfied: pillow>=6.2.0 in c:\\users\\jaleena\\appdata\\local\\programs\\python\\python311\\lib\\site-packages (from matplotlib) (10.0.0)\n",
            "Requirement already satisfied: pyparsing>=2.3.1 in c:\\users\\jaleena\\appdata\\local\\programs\\python\\python311\\lib\\site-packages (from matplotlib) (3.1.1)\n",
            "Requirement already satisfied: python-dateutil>=2.7 in c:\\users\\jaleena\\appdata\\roaming\\python\\python311\\site-packages (from matplotlib) (2.8.2)\n",
            "Requirement already satisfied: six>=1.5 in c:\\users\\jaleena\\appdata\\roaming\\python\\python311\\site-packages (from python-dateutil>=2.7->matplotlib) (1.16.0)\n",
            "Note: you may need to restart the kernel to use updated packages.\n"
          ]
        }
      ],
      "source": [
        "pip install matplotlib\n"
      ]
    },
    {
      "cell_type": "code",
      "execution_count": 5,
      "id": "5ef13b74",
      "metadata": {},
      "outputs": [
        {
          "name": "stdout",
          "output_type": "stream",
          "text": [
            "Requirement already satisfied: seaborn in c:\\users\\jaleena\\appdata\\local\\programs\\python\\python311\\lib\\site-packages (0.12.2)\n",
            "Requirement already satisfied: numpy!=1.24.0,>=1.17 in c:\\users\\jaleena\\appdata\\local\\programs\\python\\python311\\lib\\site-packages (from seaborn) (1.25.2)\n",
            "Requirement already satisfied: pandas>=0.25 in c:\\users\\jaleena\\appdata\\local\\programs\\python\\python311\\lib\\site-packages (from seaborn) (2.1.0)\n",
            "Requirement already satisfied: matplotlib!=3.6.1,>=3.1 in c:\\users\\jaleena\\appdata\\local\\programs\\python\\python311\\lib\\site-packages (from seaborn) (3.7.3)\n",
            "Requirement already satisfied: contourpy>=1.0.1 in c:\\users\\jaleena\\appdata\\local\\programs\\python\\python311\\lib\\site-packages (from matplotlib!=3.6.1,>=3.1->seaborn) (1.1.0)\n",
            "Requirement already satisfied: cycler>=0.10 in c:\\users\\jaleena\\appdata\\local\\programs\\python\\python311\\lib\\site-packages (from matplotlib!=3.6.1,>=3.1->seaborn) (0.11.0)\n",
            "Requirement already satisfied: fonttools>=4.22.0 in c:\\users\\jaleena\\appdata\\local\\programs\\python\\python311\\lib\\site-packages (from matplotlib!=3.6.1,>=3.1->seaborn) (4.42.1)\n",
            "Requirement already satisfied: kiwisolver>=1.0.1 in c:\\users\\jaleena\\appdata\\local\\programs\\python\\python311\\lib\\site-packages (from matplotlib!=3.6.1,>=3.1->seaborn) (1.4.5)\n",
            "Requirement already satisfied: packaging>=20.0 in c:\\users\\jaleena\\appdata\\roaming\\python\\python311\\site-packages (from matplotlib!=3.6.1,>=3.1->seaborn) (23.1)\n",
            "Requirement already satisfied: pillow>=6.2.0 in c:\\users\\jaleena\\appdata\\local\\programs\\python\\python311\\lib\\site-packages (from matplotlib!=3.6.1,>=3.1->seaborn) (10.0.0)\n",
            "Requirement already satisfied: pyparsing>=2.3.1 in c:\\users\\jaleena\\appdata\\local\\programs\\python\\python311\\lib\\site-packages (from matplotlib!=3.6.1,>=3.1->seaborn) (3.1.1)\n",
            "Requirement already satisfied: python-dateutil>=2.7 in c:\\users\\jaleena\\appdata\\roaming\\python\\python311\\site-packages (from matplotlib!=3.6.1,>=3.1->seaborn) (2.8.2)\n",
            "Requirement already satisfied: pytz>=2020.1 in c:\\users\\jaleena\\appdata\\local\\programs\\python\\python311\\lib\\site-packages (from pandas>=0.25->seaborn) (2023.3.post1)\n",
            "Requirement already satisfied: tzdata>=2022.1 in c:\\users\\jaleena\\appdata\\local\\programs\\python\\python311\\lib\\site-packages (from pandas>=0.25->seaborn) (2023.3)\n",
            "Requirement already satisfied: six>=1.5 in c:\\users\\jaleena\\appdata\\roaming\\python\\python311\\site-packages (from python-dateutil>=2.7->matplotlib!=3.6.1,>=3.1->seaborn) (1.16.0)\n",
            "Note: you may need to restart the kernel to use updated packages.\n"
          ]
        }
      ],
      "source": [
        "pip install seaborn\n"
      ]
    },
    {
      "cell_type": "code",
      "execution_count": 6,
      "id": "fd41dd30",
      "metadata": {},
      "outputs": [
        {
          "name": "stdout",
          "output_type": "stream",
          "text": [
            "Requirement already satisfied: ipywidgets in c:\\users\\jaleena\\appdata\\local\\programs\\python\\python311\\lib\\site-packages (8.1.1)\n",
            "Requirement already satisfied: comm>=0.1.3 in c:\\users\\jaleena\\appdata\\roaming\\python\\python311\\site-packages (from ipywidgets) (0.1.4)\n",
            "Requirement already satisfied: ipython>=6.1.0 in c:\\users\\jaleena\\appdata\\roaming\\python\\python311\\site-packages (from ipywidgets) (8.15.0)\n",
            "Requirement already satisfied: traitlets>=4.3.1 in c:\\users\\jaleena\\appdata\\roaming\\python\\python311\\site-packages (from ipywidgets) (5.9.0)\n",
            "Requirement already satisfied: widgetsnbextension~=4.0.9 in c:\\users\\jaleena\\appdata\\local\\programs\\python\\python311\\lib\\site-packages (from ipywidgets) (4.0.9)\n",
            "Requirement already satisfied: jupyterlab-widgets~=3.0.9 in c:\\users\\jaleena\\appdata\\local\\programs\\python\\python311\\lib\\site-packages (from ipywidgets) (3.0.9)\n",
            "Requirement already satisfied: backcall in c:\\users\\jaleena\\appdata\\roaming\\python\\python311\\site-packages (from ipython>=6.1.0->ipywidgets) (0.2.0)\n",
            "Requirement already satisfied: decorator in c:\\users\\jaleena\\appdata\\roaming\\python\\python311\\site-packages (from ipython>=6.1.0->ipywidgets) (5.1.1)\n",
            "Requirement already satisfied: jedi>=0.16 in c:\\users\\jaleena\\appdata\\roaming\\python\\python311\\site-packages (from ipython>=6.1.0->ipywidgets) (0.19.0)\n",
            "Requirement already satisfied: matplotlib-inline in c:\\users\\jaleena\\appdata\\roaming\\python\\python311\\site-packages (from ipython>=6.1.0->ipywidgets) (0.1.6)\n",
            "Requirement already satisfied: pickleshare in c:\\users\\jaleena\\appdata\\roaming\\python\\python311\\site-packages (from ipython>=6.1.0->ipywidgets) (0.7.5)\n",
            "Requirement already satisfied: prompt-toolkit!=3.0.37,<3.1.0,>=3.0.30 in c:\\users\\jaleena\\appdata\\roaming\\python\\python311\\site-packages (from ipython>=6.1.0->ipywidgets) (3.0.39)\n",
            "Requirement already satisfied: pygments>=2.4.0 in c:\\users\\jaleena\\appdata\\roaming\\python\\python311\\site-packages (from ipython>=6.1.0->ipywidgets) (2.16.1)\n",
            "Requirement already satisfied: stack-data in c:\\users\\jaleena\\appdata\\roaming\\python\\python311\\site-packages (from ipython>=6.1.0->ipywidgets) (0.6.2)\n",
            "Requirement already satisfied: colorama in c:\\users\\jaleena\\appdata\\roaming\\python\\python311\\site-packages (from ipython>=6.1.0->ipywidgets) (0.4.6)\n",
            "Requirement already satisfied: parso<0.9.0,>=0.8.3 in c:\\users\\jaleena\\appdata\\roaming\\python\\python311\\site-packages (from jedi>=0.16->ipython>=6.1.0->ipywidgets) (0.8.3)\n",
            "Requirement already satisfied: wcwidth in c:\\users\\jaleena\\appdata\\roaming\\python\\python311\\site-packages (from prompt-toolkit!=3.0.37,<3.1.0,>=3.0.30->ipython>=6.1.0->ipywidgets) (0.2.6)\n",
            "Requirement already satisfied: executing>=1.2.0 in c:\\users\\jaleena\\appdata\\roaming\\python\\python311\\site-packages (from stack-data->ipython>=6.1.0->ipywidgets) (1.2.0)\n",
            "Requirement already satisfied: asttokens>=2.1.0 in c:\\users\\jaleena\\appdata\\roaming\\python\\python311\\site-packages (from stack-data->ipython>=6.1.0->ipywidgets) (2.4.0)\n",
            "Requirement already satisfied: pure-eval in c:\\users\\jaleena\\appdata\\roaming\\python\\python311\\site-packages (from stack-data->ipython>=6.1.0->ipywidgets) (0.2.2)\n",
            "Requirement already satisfied: six>=1.12.0 in c:\\users\\jaleena\\appdata\\roaming\\python\\python311\\site-packages (from asttokens>=2.1.0->stack-data->ipython>=6.1.0->ipywidgets) (1.16.0)\n",
            "Note: you may need to restart the kernel to use updated packages.\n"
          ]
        }
      ],
      "source": [
        "pip install ipywidgets\n"
      ]
    },
    {
      "cell_type": "code",
      "execution_count": 7,
      "id": "37d6d61a",
      "metadata": {
        "colab": {
          "base_uri": "https://localhost:8080/"
        },
        "execution": {
          "iopub.execute_input": "2022-05-26T22:27:56.876674Z",
          "iopub.status.busy": "2022-05-26T22:27:56.875634Z",
          "iopub.status.idle": "2022-05-26T22:27:58.070005Z",
          "shell.execute_reply": "2022-05-26T22:27:58.068942Z"
        },
        "id": "37d6d61a",
        "outputId": "22bcae0d-1390-4af2-d3b4-c28f259bdfd8",
        "papermill": {
          "duration": 1.209318,
          "end_time": "2022-05-26T22:27:58.072963",
          "exception": false,
          "start_time": "2022-05-26T22:27:56.863645",
          "status": "completed"
        },
        "tags": []
      },
      "outputs": [
        {
          "name": "stderr",
          "output_type": "stream",
          "text": [
            "[nltk_data] Downloading package punkt to\n",
            "[nltk_data]     C:\\Users\\JALEENA\\AppData\\Roaming\\nltk_data...\n",
            "[nltk_data]   Package punkt is already up-to-date!\n",
            "[nltk_data] Downloading package stopwords to\n",
            "[nltk_data]     C:\\Users\\JALEENA\\AppData\\Roaming\\nltk_data...\n",
            "[nltk_data]   Package stopwords is already up-to-date!\n"
          ]
        }
      ],
      "source": [
        "import numpy as np\n",
        "import pandas as pd\n",
        "import string\n",
        "# natuaral language processing(sentiment analysis)\n",
        "import nltk\n",
        "# to \n",
        "nltk.download('punkt')\n",
        "nltk.download('stopwords')\n",
        "from nltk.corpus import stopwords\n",
        "from nltk.tokenize import word_tokenize\n",
        "# for visualization\n",
        "# import matplotlib.pyplot as plt\n",
        "# import seaborn as sns\n",
        "# create interactive user interface elements\n",
        "import ipywidgets\n",
        "from ipywidgets import interact\n",
        "\n",
        "# plt.rcParams['figure.figsize'] = (14, 8)\n",
        "# plt.style.use('fivethirtyeight')\n",
        "\n",
        "import warnings\n",
        "warnings.filterwarnings(\"ignore\")"
      ]
    },
    {
      "cell_type": "markdown",
      "id": "7ea9964e",
      "metadata": {
        "id": "7ea9964e",
        "papermill": {
          "duration": 0.010062,
          "end_time": "2022-05-26T22:27:58.093663",
          "exception": false,
          "start_time": "2022-05-26T22:27:58.083601",
          "status": "completed"
        },
        "tags": []
      },
      "source": [
        "### Reading the Data"
      ]
    },
    {
      "cell_type": "code",
      "execution_count": 8,
      "id": "08acf08a",
      "metadata": {
        "colab": {
          "base_uri": "https://localhost:8080/"
        },
        "execution": {
          "iopub.execute_input": "2022-05-26T22:27:58.115793Z",
          "iopub.status.busy": "2022-05-26T22:27:58.115403Z",
          "iopub.status.idle": "2022-05-26T22:27:59.979613Z",
          "shell.execute_reply": "2022-05-26T22:27:59.978440Z"
        },
        "id": "08acf08a",
        "outputId": "77185674-cce9-4a53-98c7-6fe253a8751f",
        "papermill": {
          "duration": 1.878458,
          "end_time": "2022-05-26T22:27:59.982448",
          "exception": false,
          "start_time": "2022-05-26T22:27:58.103990",
          "status": "completed"
        },
        "tags": []
      },
      "outputs": [
        {
          "name": "stdout",
          "output_type": "stream",
          "text": [
            "The Shape of the Dataset : (52994, 9)\n"
          ]
        }
      ],
      "source": [
        "# reading the Dataset\n",
        "data = pd.read_csv('drugsComTest_raw.csv')\n",
        "\n",
        "# lets print the dimension of the dataset\n",
        "print(\"The Shape of the Dataset :\", data.shape)"
      ]
    },
    {
      "cell_type": "code",
      "execution_count": 9,
      "id": "a45bed82",
      "metadata": {
        "colab": {
          "base_uri": "https://localhost:8080/",
          "height": 204
        },
        "execution": {
          "iopub.execute_input": "2022-05-26T22:28:00.005694Z",
          "iopub.status.busy": "2022-05-26T22:28:00.005271Z",
          "iopub.status.idle": "2022-05-26T22:28:00.030581Z",
          "shell.execute_reply": "2022-05-26T22:28:00.029476Z"
        },
        "id": "a45bed82",
        "outputId": "d576dd4d-e6e4-4b94-91c2-efad4a98f94f",
        "papermill": {
          "duration": 0.040153,
          "end_time": "2022-05-26T22:28:00.032881",
          "exception": false,
          "start_time": "2022-05-26T22:27:59.992728",
          "status": "completed"
        },
        "tags": []
      },
      "outputs": [
        {
          "data": {
            "text/html": [
              "<div>\n",
              "<style scoped>\n",
              "    .dataframe tbody tr th:only-of-type {\n",
              "        vertical-align: middle;\n",
              "    }\n",
              "\n",
              "    .dataframe tbody tr th {\n",
              "        vertical-align: top;\n",
              "    }\n",
              "\n",
              "    .dataframe thead th {\n",
              "        text-align: right;\n",
              "    }\n",
              "</style>\n",
              "<table border=\"1\" class=\"dataframe\">\n",
              "  <thead>\n",
              "    <tr style=\"text-align: right;\">\n",
              "      <th></th>\n",
              "      <th>Unnamed: 0.1</th>\n",
              "      <th>Unnamed: 0</th>\n",
              "      <th>drugName</th>\n",
              "      <th>condition</th>\n",
              "      <th>review</th>\n",
              "      <th>rating</th>\n",
              "      <th>date</th>\n",
              "      <th>usefulCount</th>\n",
              "      <th>treatments</th>\n",
              "    </tr>\n",
              "  </thead>\n",
              "  <tbody>\n",
              "    <tr>\n",
              "      <th>0</th>\n",
              "      <td>0</td>\n",
              "      <td>32998</td>\n",
              "      <td>Seasonique</td>\n",
              "      <td>Abnormal Uterine Bleeding</td>\n",
              "      <td>\"Switched from deposit shot to seasonique afte...</td>\n",
              "      <td>2</td>\n",
              "      <td>07/05/2015</td>\n",
              "      <td>8</td>\n",
              "      <td>estrogen,progesterone</td>\n",
              "    </tr>\n",
              "    <tr>\n",
              "      <th>1</th>\n",
              "      <td>1</td>\n",
              "      <td>148200</td>\n",
              "      <td>Norethindrone</td>\n",
              "      <td>Abnormal Uterine Bleeding</td>\n",
              "      <td>\"I have used other birth control in the past t...</td>\n",
              "      <td>3</td>\n",
              "      <td>24/01/2014</td>\n",
              "      <td>32</td>\n",
              "      <td>estrogen,progesterone</td>\n",
              "    </tr>\n",
              "    <tr>\n",
              "      <th>2</th>\n",
              "      <td>2</td>\n",
              "      <td>397</td>\n",
              "      <td>Medroxyprogesterone</td>\n",
              "      <td>Abnormal Uterine Bleeding</td>\n",
              "      <td>\"Took the shot 6-2014 and was bleeding 2 weeks...</td>\n",
              "      <td>1</td>\n",
              "      <td>30/06/2015</td>\n",
              "      <td>4</td>\n",
              "      <td>estrogen,progesterone</td>\n",
              "    </tr>\n",
              "    <tr>\n",
              "      <th>3</th>\n",
              "      <td>3</td>\n",
              "      <td>43103</td>\n",
              "      <td>Sronyx</td>\n",
              "      <td>Abnormal Uterine Bleeding</td>\n",
              "      <td>\"I am in my early 40&amp;#039;s and have been deal...</td>\n",
              "      <td>3</td>\n",
              "      <td>24/06/2015</td>\n",
              "      <td>3</td>\n",
              "      <td>estrogen,progesterone</td>\n",
              "    </tr>\n",
              "    <tr>\n",
              "      <th>4</th>\n",
              "      <td>4</td>\n",
              "      <td>68632</td>\n",
              "      <td>Medroxyprogesterone</td>\n",
              "      <td>Abnormal Uterine Bleeding</td>\n",
              "      <td>\"I&amp;#039;ve had awful cramps and I&amp;#039;ve had ...</td>\n",
              "      <td>1</td>\n",
              "      <td>31/05/2017</td>\n",
              "      <td>8</td>\n",
              "      <td>estrogen,progesterone</td>\n",
              "    </tr>\n",
              "  </tbody>\n",
              "</table>\n",
              "</div>"
            ],
            "text/plain": [
              "   Unnamed: 0.1  Unnamed: 0             drugName                  condition  \\\n",
              "0             0       32998           Seasonique  Abnormal Uterine Bleeding   \n",
              "1             1      148200        Norethindrone  Abnormal Uterine Bleeding   \n",
              "2             2         397  Medroxyprogesterone  Abnormal Uterine Bleeding   \n",
              "3             3       43103               Sronyx  Abnormal Uterine Bleeding   \n",
              "4             4       68632  Medroxyprogesterone  Abnormal Uterine Bleeding   \n",
              "\n",
              "                                              review  rating        date  \\\n",
              "0  \"Switched from deposit shot to seasonique afte...       2  07/05/2015   \n",
              "1  \"I have used other birth control in the past t...       3  24/01/2014   \n",
              "2  \"Took the shot 6-2014 and was bleeding 2 weeks...       1  30/06/2015   \n",
              "3  \"I am in my early 40&#039;s and have been deal...       3  24/06/2015   \n",
              "4  \"I&#039;ve had awful cramps and I&#039;ve had ...       1  31/05/2017   \n",
              "\n",
              "   usefulCount             treatments  \n",
              "0            8  estrogen,progesterone  \n",
              "1           32  estrogen,progesterone  \n",
              "2            4  estrogen,progesterone  \n",
              "3            3  estrogen,progesterone  \n",
              "4            8  estrogen,progesterone  "
            ]
          },
          "execution_count": 9,
          "metadata": {},
          "output_type": "execute_result"
        }
      ],
      "source": [
        "# lets check the head of the dataset\n",
        "data.head()"
      ]
    },
    {
      "cell_type": "code",
      "execution_count": 10,
      "id": "CChBd4FJZAED",
      "metadata": {
        "colab": {
          "base_uri": "https://localhost:8080/",
          "height": 204
        },
        "id": "CChBd4FJZAED",
        "outputId": "afafe42f-8328-41ac-874c-5aa9835c00e5"
      },
      "outputs": [
        {
          "data": {
            "text/html": [
              "<div>\n",
              "<style scoped>\n",
              "    .dataframe tbody tr th:only-of-type {\n",
              "        vertical-align: middle;\n",
              "    }\n",
              "\n",
              "    .dataframe tbody tr th {\n",
              "        vertical-align: top;\n",
              "    }\n",
              "\n",
              "    .dataframe thead th {\n",
              "        text-align: right;\n",
              "    }\n",
              "</style>\n",
              "<table border=\"1\" class=\"dataframe\">\n",
              "  <thead>\n",
              "    <tr style=\"text-align: right;\">\n",
              "      <th></th>\n",
              "      <th>Unnamed: 0.1</th>\n",
              "      <th>Unnamed: 0</th>\n",
              "      <th>drugName</th>\n",
              "      <th>condition</th>\n",
              "      <th>review</th>\n",
              "      <th>rating</th>\n",
              "      <th>date</th>\n",
              "      <th>usefulCount</th>\n",
              "      <th>treatments</th>\n",
              "    </tr>\n",
              "  </thead>\n",
              "  <tbody>\n",
              "    <tr>\n",
              "      <th>52989</th>\n",
              "      <td>52989</td>\n",
              "      <td>118650</td>\n",
              "      <td>Salagen</td>\n",
              "      <td>Xerostomia</td>\n",
              "      <td>\"I have sjogrens so have a dry mouth. I would ...</td>\n",
              "      <td>9</td>\n",
              "      <td>07/03/2017</td>\n",
              "      <td>7</td>\n",
              "      <td>artificial saliva lubricant, pilocarpine (Sala...</td>\n",
              "    </tr>\n",
              "    <tr>\n",
              "      <th>52990</th>\n",
              "      <td>52990</td>\n",
              "      <td>56995</td>\n",
              "      <td>Saliva substitutes</td>\n",
              "      <td>Xerostomia</td>\n",
              "      <td>\"I recently came across a new product that&amp;#03...</td>\n",
              "      <td>10</td>\n",
              "      <td>21/12/2016</td>\n",
              "      <td>8</td>\n",
              "      <td>artificial saliva lubricant, pilocarpine (Sala...</td>\n",
              "    </tr>\n",
              "    <tr>\n",
              "      <th>52991</th>\n",
              "      <td>52991</td>\n",
              "      <td>56992</td>\n",
              "      <td>Saliva substitutes</td>\n",
              "      <td>Xerostomia</td>\n",
              "      <td>\"I only tried a sample and not very good tasti...</td>\n",
              "      <td>1</td>\n",
              "      <td>20/02/2017</td>\n",
              "      <td>1</td>\n",
              "      <td>artificial saliva lubricant, pilocarpine (Sala...</td>\n",
              "    </tr>\n",
              "    <tr>\n",
              "      <th>52992</th>\n",
              "      <td>52992</td>\n",
              "      <td>119646</td>\n",
              "      <td>Yellow fever vaccine</td>\n",
              "      <td>Yellow Fever Prophylaxis</td>\n",
              "      <td>\"I had yellow fever vaccination three weeks ag...</td>\n",
              "      <td>5</td>\n",
              "      <td>15/12/2016</td>\n",
              "      <td>2</td>\n",
              "      <td>oral rehydration therapy</td>\n",
              "    </tr>\n",
              "    <tr>\n",
              "      <th>52993</th>\n",
              "      <td>52993</td>\n",
              "      <td>35532</td>\n",
              "      <td>Prilosec</td>\n",
              "      <td>Zollinger-Ellison Syndrome</td>\n",
              "      <td>\"I have a hiatal hernia which can cause bad re...</td>\n",
              "      <td>10</td>\n",
              "      <td>02/11/2014</td>\n",
              "      <td>43</td>\n",
              "      <td>proton pump inhibitors medication, Octreotide ...</td>\n",
              "    </tr>\n",
              "  </tbody>\n",
              "</table>\n",
              "</div>"
            ],
            "text/plain": [
              "       Unnamed: 0.1  Unnamed: 0              drugName  \\\n",
              "52989         52989      118650               Salagen   \n",
              "52990         52990       56995    Saliva substitutes   \n",
              "52991         52991       56992    Saliva substitutes   \n",
              "52992         52992      119646  Yellow fever vaccine   \n",
              "52993         52993       35532              Prilosec   \n",
              "\n",
              "                        condition  \\\n",
              "52989                  Xerostomia   \n",
              "52990                  Xerostomia   \n",
              "52991                  Xerostomia   \n",
              "52992    Yellow Fever Prophylaxis   \n",
              "52993  Zollinger-Ellison Syndrome   \n",
              "\n",
              "                                                  review  rating        date  \\\n",
              "52989  \"I have sjogrens so have a dry mouth. I would ...       9  07/03/2017   \n",
              "52990  \"I recently came across a new product that&#03...      10  21/12/2016   \n",
              "52991  \"I only tried a sample and not very good tasti...       1  20/02/2017   \n",
              "52992  \"I had yellow fever vaccination three weeks ag...       5  15/12/2016   \n",
              "52993  \"I have a hiatal hernia which can cause bad re...      10  02/11/2014   \n",
              "\n",
              "       usefulCount                                         treatments  \n",
              "52989            7  artificial saliva lubricant, pilocarpine (Sala...  \n",
              "52990            8  artificial saliva lubricant, pilocarpine (Sala...  \n",
              "52991            1  artificial saliva lubricant, pilocarpine (Sala...  \n",
              "52992            2                           oral rehydration therapy  \n",
              "52993           43  proton pump inhibitors medication, Octreotide ...  "
            ]
          },
          "execution_count": 10,
          "metadata": {},
          "output_type": "execute_result"
        }
      ],
      "source": [
        "# lets check the tail of the dataset\n",
        "data.tail()"
      ]
    },
    {
      "cell_type": "code",
      "execution_count": 11,
      "id": "028a54ea",
      "metadata": {
        "colab": {
          "base_uri": "https://localhost:8080/"
        },
        "execution": {
          "iopub.execute_input": "2022-05-26T22:28:00.056809Z",
          "iopub.status.busy": "2022-05-26T22:28:00.056395Z",
          "iopub.status.idle": "2022-05-26T22:28:00.141006Z",
          "shell.execute_reply": "2022-05-26T22:28:00.139136Z"
        },
        "id": "028a54ea",
        "outputId": "b41eec97-8eb0-4b11-d952-9d99dca05533",
        "papermill": {
          "duration": 0.09909,
          "end_time": "2022-05-26T22:28:00.143529",
          "exception": false,
          "start_time": "2022-05-26T22:28:00.044439",
          "status": "completed"
        },
        "tags": []
      },
      "outputs": [
        {
          "name": "stdout",
          "output_type": "stream",
          "text": [
            "Number of Unique Drugs present in the Dataset : 2609\n",
            "Number of Unique Medical Conditions present in the Dataset : 641\n",
            "\n",
            "The Time Period of Collecting the Data\n",
            "Starting Date : 01/01/2009\n",
            "Ending Date : 31/12/2016\n"
          ]
        }
      ],
      "source": [
        "# lets Explore Some of the Important Column in the dataset\n",
        "\n",
        "print(\"Number of Unique Drugs present in the Dataset :\", data['drugName'].nunique())\n",
        "print(\"Number of Unique Medical Conditions present in the Dataset :\", data['condition'].nunique())\n",
        "\n",
        "print()\n",
        "print(\"The Time Period of Collecting the Data\")\n",
        "print(\"Starting Date :\", data['date'].min())\n",
        "print(\"Ending Date :\", data['date'].max())"
      ]
    },
    {
      "cell_type": "markdown",
      "id": "1f495dca",
      "metadata": {
        "id": "1f495dca",
        "papermill": {
          "duration": 0.010605,
          "end_time": "2022-05-26T22:28:00.164838",
          "exception": false,
          "start_time": "2022-05-26T22:28:00.154233",
          "status": "completed"
        },
        "tags": []
      },
      "source": [
        "### Summarizing the Dataset"
      ]
    },
    {
      "cell_type": "code",
      "execution_count": 12,
      "id": "ed4cc69e",
      "metadata": {
        "colab": {
          "base_uri": "https://localhost:8080/",
          "height": 297
        },
        "execution": {
          "iopub.execute_input": "2022-05-26T22:28:00.188025Z",
          "iopub.status.busy": "2022-05-26T22:28:00.187615Z",
          "iopub.status.idle": "2022-05-26T22:28:00.229873Z",
          "shell.execute_reply": "2022-05-26T22:28:00.228622Z"
        },
        "id": "ed4cc69e",
        "outputId": "f0a8c367-860e-4c15-8430-9f6a3c77f603",
        "papermill": {
          "duration": 0.056999,
          "end_time": "2022-05-26T22:28:00.232364",
          "exception": false,
          "start_time": "2022-05-26T22:28:00.175365",
          "status": "completed"
        },
        "tags": []
      },
      "outputs": [
        {
          "data": {
            "text/html": [
              "<div>\n",
              "<style scoped>\n",
              "    .dataframe tbody tr th:only-of-type {\n",
              "        vertical-align: middle;\n",
              "    }\n",
              "\n",
              "    .dataframe tbody tr th {\n",
              "        vertical-align: top;\n",
              "    }\n",
              "\n",
              "    .dataframe thead th {\n",
              "        text-align: right;\n",
              "    }\n",
              "</style>\n",
              "<table border=\"1\" class=\"dataframe\">\n",
              "  <thead>\n",
              "    <tr style=\"text-align: right;\">\n",
              "      <th></th>\n",
              "      <th>rating</th>\n",
              "      <th>usefulCount</th>\n",
              "    </tr>\n",
              "  </thead>\n",
              "  <tbody>\n",
              "    <tr>\n",
              "      <th>count</th>\n",
              "      <td>52994.000000</td>\n",
              "      <td>52994.000000</td>\n",
              "    </tr>\n",
              "    <tr>\n",
              "      <th>mean</th>\n",
              "      <td>6.977318</td>\n",
              "      <td>28.226648</td>\n",
              "    </tr>\n",
              "    <tr>\n",
              "      <th>std</th>\n",
              "      <td>3.287444</td>\n",
              "      <td>36.324502</td>\n",
              "    </tr>\n",
              "    <tr>\n",
              "      <th>min</th>\n",
              "      <td>1.000000</td>\n",
              "      <td>0.000000</td>\n",
              "    </tr>\n",
              "    <tr>\n",
              "      <th>25%</th>\n",
              "      <td>4.000000</td>\n",
              "      <td>6.000000</td>\n",
              "    </tr>\n",
              "    <tr>\n",
              "      <th>50%</th>\n",
              "      <td>8.000000</td>\n",
              "      <td>16.000000</td>\n",
              "    </tr>\n",
              "    <tr>\n",
              "      <th>75%</th>\n",
              "      <td>10.000000</td>\n",
              "      <td>36.000000</td>\n",
              "    </tr>\n",
              "    <tr>\n",
              "      <th>max</th>\n",
              "      <td>10.000000</td>\n",
              "      <td>949.000000</td>\n",
              "    </tr>\n",
              "  </tbody>\n",
              "</table>\n",
              "</div>"
            ],
            "text/plain": [
              "             rating   usefulCount\n",
              "count  52994.000000  52994.000000\n",
              "mean       6.977318     28.226648\n",
              "std        3.287444     36.324502\n",
              "min        1.000000      0.000000\n",
              "25%        4.000000      6.000000\n",
              "50%        8.000000     16.000000\n",
              "75%       10.000000     36.000000\n",
              "max       10.000000    949.000000"
            ]
          },
          "execution_count": 12,
          "metadata": {},
          "output_type": "execute_result"
        }
      ],
      "source": [
        "# lets summarize the Dataset\n",
        "data[['rating','usefulCount']].describe()"
      ]
    },
    {
      "cell_type": "code",
      "execution_count": 13,
      "id": "aef6d76f",
      "metadata": {
        "colab": {
          "base_uri": "https://localhost:8080/"
        },
        "execution": {
          "iopub.execute_input": "2022-05-26T22:28:00.257390Z",
          "iopub.status.busy": "2022-05-26T22:28:00.256951Z",
          "iopub.status.idle": "2022-05-26T22:28:00.288685Z",
          "shell.execute_reply": "2022-05-26T22:28:00.287462Z"
        },
        "id": "aef6d76f",
        "outputId": "193283a2-c323-419b-8e37-eac218b8e10e",
        "papermill": {
          "duration": 0.046596,
          "end_time": "2022-05-26T22:28:00.291165",
          "exception": false,
          "start_time": "2022-05-26T22:28:00.244569",
          "status": "completed"
        },
        "tags": []
      },
      "outputs": [
        {
          "name": "stdout",
          "output_type": "stream",
          "text": [
            "Analysis on Useless Drugs\n",
            "----------------------------\n",
            "The Number of Drugs with No Useful Count : 1990\n",
            "Number of Good Drugs with Lesser Useful Count : 0\n",
            "Average Rating of Drugs with No Useful Count : 5.81\n",
            "\n",
            "Analysis on Useful Drugs\n",
            "----------------------------\n",
            "The Number of Drugs with Greater than 1000 Useful Counts : 0\n",
            "Average Rating of Drugs with 1000+ Useful Counts : nan\n",
            "\n",
            "Name and Condition of these Drugs: \n",
            "\n",
            " Empty DataFrame\n",
            "Columns: [drugName, condition]\n",
            "Index: []\n"
          ]
        }
      ],
      "source": [
        "# lets check the Number and Name of the Drugs with 0 Useful Count in Details\n",
        "print(\"Analysis on Useless Drugs\")\n",
        "print(\"----------------------------\")\n",
        "print(\"The Number of Drugs with No Useful Count :\", data[data['usefulCount'] == 0].count()[0])\n",
        "\n",
        "# Lets Check the Number of Drugs with No Usesful Count with Review Greater than or Equal to 8\n",
        "print(\"Number of Good Drugs with Lesser Useful Count :\", data[(data['usefulCount'] == 0) &\n",
        "                                                data['rating'] >= 8].count()[0])\n",
        "\n",
        "# Lets Check the Average Rating of the Drugs with No Useful Count\n",
        "print(\"Average Rating of Drugs with No Useful Count : {0:.2f}\".format(data[data['usefulCount'] == 0]['rating'].mean()))\n",
        "\n",
        "print(\"\\nAnalysis on Useful Drugs\")\n",
        "print(\"----------------------------\")\n",
        "print(\"The Number of Drugs with Greater than 1000 Useful Counts :\", data[data['usefulCount'] > 1000].count()[0])\n",
        "print(\"Average Rating of Drugs with 1000+ Useful Counts :\", data[data['usefulCount'] > 1000]['rating'].mean())\n",
        "print(\"\\nName and Condition of these Drugs: \\n\\n\", \n",
        "    data[data['usefulCount'] > 1000][['drugName','condition']].reset_index(drop = True))"
      ]
    },
    {
      "cell_type": "code",
      "execution_count": 14,
      "id": "bed57cc0",
      "metadata": {
        "colab": {
          "base_uri": "https://localhost:8080/",
          "height": 173
        },
        "execution": {
          "iopub.execute_input": "2022-05-26T22:28:00.314979Z",
          "iopub.status.busy": "2022-05-26T22:28:00.314250Z",
          "iopub.status.idle": "2022-05-26T22:28:00.618049Z",
          "shell.execute_reply": "2022-05-26T22:28:00.617002Z"
        },
        "id": "bed57cc0",
        "outputId": "fe962287-0190-4ea0-d82a-07cb23687519",
        "papermill": {
          "duration": 0.318227,
          "end_time": "2022-05-26T22:28:00.620341",
          "exception": false,
          "start_time": "2022-05-26T22:28:00.302114",
          "status": "completed"
        },
        "tags": []
      },
      "outputs": [
        {
          "data": {
            "text/html": [
              "<div>\n",
              "<style scoped>\n",
              "    .dataframe tbody tr th:only-of-type {\n",
              "        vertical-align: middle;\n",
              "    }\n",
              "\n",
              "    .dataframe tbody tr th {\n",
              "        vertical-align: top;\n",
              "    }\n",
              "\n",
              "    .dataframe thead th {\n",
              "        text-align: right;\n",
              "    }\n",
              "</style>\n",
              "<table border=\"1\" class=\"dataframe\">\n",
              "  <thead>\n",
              "    <tr style=\"text-align: right;\">\n",
              "      <th></th>\n",
              "      <th>drugName</th>\n",
              "      <th>condition</th>\n",
              "      <th>review</th>\n",
              "    </tr>\n",
              "  </thead>\n",
              "  <tbody>\n",
              "    <tr>\n",
              "      <th>count</th>\n",
              "      <td>52994</td>\n",
              "      <td>52994</td>\n",
              "      <td>52994</td>\n",
              "    </tr>\n",
              "    <tr>\n",
              "      <th>unique</th>\n",
              "      <td>2609</td>\n",
              "      <td>641</td>\n",
              "      <td>47527</td>\n",
              "    </tr>\n",
              "    <tr>\n",
              "      <th>top</th>\n",
              "      <td>Levonorgestrel</td>\n",
              "      <td>Birth Control</td>\n",
              "      <td>\"Excellent\"</td>\n",
              "    </tr>\n",
              "    <tr>\n",
              "      <th>freq</th>\n",
              "      <td>1264</td>\n",
              "      <td>9648</td>\n",
              "      <td>7</td>\n",
              "    </tr>\n",
              "  </tbody>\n",
              "</table>\n",
              "</div>"
            ],
            "text/plain": [
              "              drugName      condition       review\n",
              "count            52994          52994        52994\n",
              "unique            2609            641        47527\n",
              "top     Levonorgestrel  Birth Control  \"Excellent\"\n",
              "freq              1264           9648            7"
            ]
          },
          "execution_count": 14,
          "metadata": {},
          "output_type": "execute_result"
        }
      ],
      "source": [
        "# lets summarize Categorical data also\n",
        "data[['drugName','condition','review']].describe(include = 'object')"
      ]
    },
    {
      "cell_type": "code",
      "execution_count": 15,
      "id": "0998d9c5",
      "metadata": {
        "colab": {
          "base_uri": "https://localhost:8080/"
        },
        "execution": {
          "iopub.execute_input": "2022-05-26T22:28:00.645053Z",
          "iopub.status.busy": "2022-05-26T22:28:00.644625Z",
          "iopub.status.idle": "2022-05-26T22:28:00.724084Z",
          "shell.execute_reply": "2022-05-26T22:28:00.722954Z"
        },
        "id": "0998d9c5",
        "outputId": "36f7371f-93e9-47fe-c964-22e9002c6f33",
        "papermill": {
          "duration": 0.094939,
          "end_time": "2022-05-26T22:28:00.726467",
          "exception": false,
          "start_time": "2022-05-26T22:28:00.631528",
          "status": "completed"
        },
        "tags": []
      },
      "outputs": [
        {
          "data": {
            "text/plain": [
              "Unnamed: 0.1    0\n",
              "Unnamed: 0      0\n",
              "drugName        0\n",
              "condition       0\n",
              "review          0\n",
              "rating          0\n",
              "date            0\n",
              "usefulCount     0\n",
              "treatments      0\n",
              "dtype: int64"
            ]
          },
          "execution_count": 15,
          "metadata": {},
          "output_type": "execute_result"
        }
      ],
      "source": [
        "# lets check for Missing Values\n",
        "data.isnull().sum()"
      ]
    },
    {
      "cell_type": "code",
      "execution_count": 16,
      "id": "42989b40",
      "metadata": {
        "execution": {
          "iopub.execute_input": "2022-05-26T22:28:00.750471Z",
          "iopub.status.busy": "2022-05-26T22:28:00.750055Z",
          "iopub.status.idle": "2022-05-26T22:28:00.916087Z",
          "shell.execute_reply": "2022-05-26T22:28:00.915295Z"
        },
        "id": "42989b40",
        "papermill": {
          "duration": 0.180773,
          "end_time": "2022-05-26T22:28:00.918352",
          "exception": false,
          "start_time": "2022-05-26T22:28:00.737579",
          "status": "completed"
        },
        "tags": []
      },
      "outputs": [],
      "source": [
        "# as we know that condition is an Important Column, so we will delete all the records where Condition is Missing\n",
        "data = data.dropna()"
      ]
    },
    {
      "cell_type": "code",
      "execution_count": 17,
      "id": "LeWecqtgYzO7",
      "metadata": {
        "colab": {
          "base_uri": "https://localhost:8080/"
        },
        "id": "LeWecqtgYzO7",
        "outputId": "3bf9a0a4-8c9b-474f-fad7-ff9d7d11c238"
      },
      "outputs": [
        {
          "data": {
            "text/plain": [
              "Unnamed: 0.1    0\n",
              "Unnamed: 0      0\n",
              "drugName        0\n",
              "condition       0\n",
              "review          0\n",
              "rating          0\n",
              "date            0\n",
              "usefulCount     0\n",
              "treatments      0\n",
              "dtype: int64"
            ]
          },
          "execution_count": 17,
          "metadata": {},
          "output_type": "execute_result"
        }
      ],
      "source": [
        "# lets check the Missing values now\n",
        "data.isnull().sum()"
      ]
    },
    {
      "cell_type": "code",
      "execution_count": 18,
      "id": "ec32d05f",
      "metadata": {
        "execution": {
          "iopub.execute_input": "2022-05-26T22:28:05.413164Z",
          "iopub.status.busy": "2022-05-26T22:28:05.412420Z",
          "iopub.status.idle": "2022-05-26T22:28:05.511566Z",
          "shell.execute_reply": "2022-05-26T22:28:05.510301Z"
        },
        "id": "ec32d05f",
        "papermill": {
          "duration": 0.11593,
          "end_time": "2022-05-26T22:28:05.514307",
          "exception": false,
          "start_time": "2022-05-26T22:28:05.398377",
          "status": "completed"
        },
        "tags": []
      },
      "outputs": [],
      "source": [
        "# Checking whether Length of Review has any Impact on Ratings of the Drugs\n",
        "\n",
        "# for that we need to create a new column to calculate length of the reviews\n",
        "data['len']  = data['review'].apply(len)"
      ]
    },
    {
      "cell_type": "code",
      "execution_count": 19,
      "id": "13006f12",
      "metadata": {
        "colab": {
          "base_uri": "https://localhost:8080/",
          "height": 421
        },
        "execution": {
          "iopub.execute_input": "2022-05-26T22:28:05.543502Z",
          "iopub.status.busy": "2022-05-26T22:28:05.542981Z",
          "iopub.status.idle": "2022-05-26T22:28:05.579084Z",
          "shell.execute_reply": "2022-05-26T22:28:05.578210Z"
        },
        "id": "13006f12",
        "outputId": "f4ddd8fd-de52-41e7-9414-2af35c6d3a8a",
        "papermill": {
          "duration": 0.052637,
          "end_time": "2022-05-26T22:28:05.581053",
          "exception": false,
          "start_time": "2022-05-26T22:28:05.528416",
          "status": "completed"
        },
        "tags": []
      },
      "outputs": [
        {
          "data": {
            "text/html": [
              "<div>\n",
              "<style scoped>\n",
              "    .dataframe tbody tr th:only-of-type {\n",
              "        vertical-align: middle;\n",
              "    }\n",
              "\n",
              "    .dataframe tbody tr th {\n",
              "        vertical-align: top;\n",
              "    }\n",
              "\n",
              "    .dataframe thead tr th {\n",
              "        text-align: left;\n",
              "    }\n",
              "\n",
              "    .dataframe thead tr:last-of-type th {\n",
              "        text-align: right;\n",
              "    }\n",
              "</style>\n",
              "<table border=\"1\" class=\"dataframe\">\n",
              "  <thead>\n",
              "    <tr>\n",
              "      <th></th>\n",
              "      <th colspan=\"3\" halign=\"left\">len</th>\n",
              "    </tr>\n",
              "    <tr>\n",
              "      <th></th>\n",
              "      <th>min</th>\n",
              "      <th>mean</th>\n",
              "      <th>max</th>\n",
              "    </tr>\n",
              "    <tr>\n",
              "      <th>rating</th>\n",
              "      <th></th>\n",
              "      <th></th>\n",
              "      <th></th>\n",
              "    </tr>\n",
              "  </thead>\n",
              "  <tbody>\n",
              "    <tr>\n",
              "      <th>1</th>\n",
              "      <td>5</td>\n",
              "      <td>427.431128</td>\n",
              "      <td>3103</td>\n",
              "    </tr>\n",
              "    <tr>\n",
              "      <th>2</th>\n",
              "      <td>14</td>\n",
              "      <td>458.943552</td>\n",
              "      <td>2376</td>\n",
              "    </tr>\n",
              "    <tr>\n",
              "      <th>3</th>\n",
              "      <td>8</td>\n",
              "      <td>449.359706</td>\n",
              "      <td>2142</td>\n",
              "    </tr>\n",
              "    <tr>\n",
              "      <th>4</th>\n",
              "      <td>5</td>\n",
              "      <td>468.812769</td>\n",
              "      <td>1558</td>\n",
              "    </tr>\n",
              "    <tr>\n",
              "      <th>5</th>\n",
              "      <td>10</td>\n",
              "      <td>480.816780</td>\n",
              "      <td>2010</td>\n",
              "    </tr>\n",
              "    <tr>\n",
              "      <th>6</th>\n",
              "      <td>4</td>\n",
              "      <td>471.949664</td>\n",
              "      <td>2226</td>\n",
              "    </tr>\n",
              "    <tr>\n",
              "      <th>7</th>\n",
              "      <td>6</td>\n",
              "      <td>484.012850</td>\n",
              "      <td>1266</td>\n",
              "    </tr>\n",
              "    <tr>\n",
              "      <th>8</th>\n",
              "      <td>6</td>\n",
              "      <td>480.847474</td>\n",
              "      <td>1603</td>\n",
              "    </tr>\n",
              "    <tr>\n",
              "      <th>9</th>\n",
              "      <td>3</td>\n",
              "      <td>477.064216</td>\n",
              "      <td>2733</td>\n",
              "    </tr>\n",
              "    <tr>\n",
              "      <th>10</th>\n",
              "      <td>6</td>\n",
              "      <td>446.457882</td>\n",
              "      <td>6195</td>\n",
              "    </tr>\n",
              "  </tbody>\n",
              "</table>\n",
              "</div>"
            ],
            "text/plain": [
              "       len                  \n",
              "       min        mean   max\n",
              "rating                      \n",
              "1        5  427.431128  3103\n",
              "2       14  458.943552  2376\n",
              "3        8  449.359706  2142\n",
              "4        5  468.812769  1558\n",
              "5       10  480.816780  2010\n",
              "6        4  471.949664  2226\n",
              "7        6  484.012850  1266\n",
              "8        6  480.847474  1603\n",
              "9        3  477.064216  2733\n",
              "10       6  446.457882  6195"
            ]
          },
          "execution_count": 19,
          "metadata": {},
          "output_type": "execute_result"
        }
      ],
      "source": [
        "# lets check the Impact of Length of Reviews on Ratings\n",
        "data[['rating','len']].groupby(['rating']).agg(['min','mean','max'])"
      ]
    },
    {
      "cell_type": "markdown",
      "id": "e9ad7074",
      "metadata": {
        "id": "e9ad7074",
        "papermill": {
          "duration": 0.013312,
          "end_time": "2022-05-26T22:28:05.647393",
          "exception": false,
          "start_time": "2022-05-26T22:28:05.634081",
          "status": "completed"
        },
        "tags": []
      },
      "source": [
        "### Cleaning the Reviews"
      ]
    },
    {
      "cell_type": "code",
      "execution_count": 20,
      "id": "675dc802",
      "metadata": {
        "execution": {
          "iopub.execute_input": "2022-05-26T22:28:05.675970Z",
          "iopub.status.busy": "2022-05-26T22:28:05.675106Z",
          "iopub.status.idle": "2022-05-26T22:28:15.021382Z",
          "shell.execute_reply": "2022-05-26T22:28:15.019913Z"
        },
        "id": "675dc802",
        "papermill": {
          "duration": 9.364015,
          "end_time": "2022-05-26T22:28:15.024709",
          "exception": false,
          "start_time": "2022-05-26T22:28:05.660694",
          "status": "completed"
        },
        "tags": []
      },
      "outputs": [],
      "source": [
        "# as it is clear that the reviews have so many unnecassry things such as Stopwords, Punctuations, numbers etc\n",
        "\n",
        "# First lets remove Punctuations from the Reviews\n",
        "def punctuation_removal(messy_str):\n",
        "    clean_list = [char for char in messy_str if char not in string.punctuation]\n",
        "    clean_str = ''.join(clean_list)\n",
        "    return clean_str\n",
        "\n",
        "data['review'] = data['review'].apply(punctuation_removal)"
      ]
    },
    {
      "cell_type": "code",
      "execution_count": 21,
      "id": "f22eba6c",
      "metadata": {
        "execution": {
          "iopub.execute_input": "2022-05-26T22:28:15.054626Z",
          "iopub.status.busy": "2022-05-26T22:28:15.054152Z",
          "iopub.status.idle": "2022-05-26T22:30:24.482788Z",
          "shell.execute_reply": "2022-05-26T22:30:24.481675Z"
        },
        "id": "f22eba6c",
        "papermill": {
          "duration": 129.447089,
          "end_time": "2022-05-26T22:30:24.485753",
          "exception": false,
          "start_time": "2022-05-26T22:28:15.038664",
          "status": "completed"
        },
        "tags": []
      },
      "outputs": [],
      "source": [
        "# Now lets Remove the Stopwords also\n",
        "\n",
        "stop = stopwords.words('english')\n",
        "stop.append(\"i'm\")\n",
        "\n",
        "stop_words = []\n",
        "\n",
        "for item in stop: \n",
        "    new_item = punctuation_removal(item)\n",
        "    stop_words.append(new_item) \n",
        "\n",
        "def stopwords_removal(messy_str):\n",
        "    messy_str = word_tokenize(messy_str)\n",
        "    return [word.lower() for word in messy_str \n",
        "            if word.lower() not in stop_words ]\n",
        "\n",
        "data['review'] = data['review'].apply(stopwords_removal)"
      ]
    },
    {
      "cell_type": "code",
      "execution_count": 22,
      "id": "83879211",
      "metadata": {
        "execution": {
          "iopub.execute_input": "2022-05-26T22:30:24.514405Z",
          "iopub.status.busy": "2022-05-26T22:30:24.513634Z",
          "iopub.status.idle": "2022-05-26T22:30:33.507615Z",
          "shell.execute_reply": "2022-05-26T22:30:33.506281Z"
        },
        "id": "83879211",
        "papermill": {
          "duration": 9.011021,
          "end_time": "2022-05-26T22:30:33.510215",
          "exception": false,
          "start_time": "2022-05-26T22:30:24.499194",
          "status": "completed"
        },
        "tags": []
      },
      "outputs": [],
      "source": [
        "# lets remove the Numbers also\n",
        "\n",
        "import re\n",
        "def drop_numbers(list_text):\n",
        "    list_text_new = []\n",
        "    for i in list_text:\n",
        "        if not re.search('\\d', i):\n",
        "            list_text_new.append(i)\n",
        "    return ' '.join(list_text_new)\n",
        "\n",
        "data['review'] = data['review'].apply(drop_numbers)"
      ]
    },
    {
      "cell_type": "markdown",
      "id": "187bb3f5",
      "metadata": {
        "id": "187bb3f5",
        "papermill": {
          "duration": 0.015068,
          "end_time": "2022-05-26T22:30:33.541973",
          "exception": false,
          "start_time": "2022-05-26T22:30:33.526905",
          "status": "completed"
        },
        "tags": []
      },
      "source": [
        "### Calculating the Sentiment from Reviews"
      ]
    },
    {
      "cell_type": "code",
      "execution_count": 23,
      "id": "dbe2335b",
      "metadata": {
        "colab": {
          "base_uri": "https://localhost:8080/"
        },
        "execution": {
          "iopub.execute_input": "2022-05-26T22:30:33.569940Z",
          "iopub.status.busy": "2022-05-26T22:30:33.569520Z",
          "iopub.status.idle": "2022-05-26T22:30:33.855615Z",
          "shell.execute_reply": "2022-05-26T22:30:33.854481Z"
        },
        "id": "dbe2335b",
        "outputId": "d1469cf2-b6e3-4db8-c30e-85767c08c133",
        "papermill": {
          "duration": 0.302737,
          "end_time": "2022-05-26T22:30:33.857822",
          "exception": false,
          "start_time": "2022-05-26T22:30:33.555085",
          "status": "completed"
        },
        "tags": []
      },
      "outputs": [
        {
          "name": "stderr",
          "output_type": "stream",
          "text": [
            "[nltk_data] Downloading package vader_lexicon to\n",
            "[nltk_data]     C:\\Users\\JALEENA\\AppData\\Roaming\\nltk_data...\n",
            "[nltk_data]   Package vader_lexicon is already up-to-date!\n"
          ]
        },
        {
          "data": {
            "text/plain": [
              "True"
            ]
          },
          "execution_count": 23,
          "metadata": {},
          "output_type": "execute_result"
        }
      ],
      "source": [
        "# for using Sentiment Analyzer we will have to dowload the Vader Lexicon from NLTK\n",
        "nltk.download('vader_lexicon')"
      ]
    },
    {
      "cell_type": "code",
      "execution_count": 24,
      "id": "f5e4f998",
      "metadata": {
        "execution": {
          "iopub.execute_input": "2022-05-26T22:30:33.886297Z",
          "iopub.status.busy": "2022-05-26T22:30:33.885845Z",
          "iopub.status.idle": "2022-05-26T22:32:23.016401Z",
          "shell.execute_reply": "2022-05-26T22:32:23.015099Z"
        },
        "id": "f5e4f998",
        "papermill": {
          "duration": 109.148421,
          "end_time": "2022-05-26T22:32:23.019385",
          "exception": false,
          "start_time": "2022-05-26T22:30:33.870964",
          "status": "completed"
        },
        "tags": []
      },
      "outputs": [],
      "source": [
        "# lets calculate the Sentiment from Reviews\n",
        "\n",
        "from nltk.sentiment.vader import SentimentIntensityAnalyzer\n",
        "sid = SentimentIntensityAnalyzer()\n",
        "train_sentiments = []\n",
        "for i in data['review']:\n",
        "    train_sentiments.append(sid.polarity_scores(i).get('compound'))\n",
        "    \n",
        "train_sentiments = np.asarray(train_sentiments)\n",
        "data['sentiment'] = pd.Series(data=train_sentiments)"
      ]
    },
    {
      "cell_type": "code",
      "execution_count": 25,
      "id": "7072d298",
      "metadata": {
        "colab": {
          "base_uri": "https://localhost:8080/",
          "height": 421
        },
        "execution": {
          "iopub.execute_input": "2022-05-26T22:32:23.050466Z",
          "iopub.status.busy": "2022-05-26T22:32:23.050011Z",
          "iopub.status.idle": "2022-05-26T22:32:23.075737Z",
          "shell.execute_reply": "2022-05-26T22:32:23.074657Z"
        },
        "id": "7072d298",
        "outputId": "06cac021-5a8c-4e76-865b-64a772c3ee97",
        "papermill": {
          "duration": 0.044532,
          "end_time": "2022-05-26T22:32:23.078040",
          "exception": false,
          "start_time": "2022-05-26T22:32:23.033508",
          "status": "completed"
        },
        "tags": []
      },
      "outputs": [
        {
          "data": {
            "text/html": [
              "<div>\n",
              "<style scoped>\n",
              "    .dataframe tbody tr th:only-of-type {\n",
              "        vertical-align: middle;\n",
              "    }\n",
              "\n",
              "    .dataframe tbody tr th {\n",
              "        vertical-align: top;\n",
              "    }\n",
              "\n",
              "    .dataframe thead tr th {\n",
              "        text-align: left;\n",
              "    }\n",
              "\n",
              "    .dataframe thead tr:last-of-type th {\n",
              "        text-align: right;\n",
              "    }\n",
              "</style>\n",
              "<table border=\"1\" class=\"dataframe\">\n",
              "  <thead>\n",
              "    <tr>\n",
              "      <th></th>\n",
              "      <th colspan=\"3\" halign=\"left\">sentiment</th>\n",
              "    </tr>\n",
              "    <tr>\n",
              "      <th></th>\n",
              "      <th>min</th>\n",
              "      <th>mean</th>\n",
              "      <th>max</th>\n",
              "    </tr>\n",
              "    <tr>\n",
              "      <th>rating</th>\n",
              "      <th></th>\n",
              "      <th></th>\n",
              "      <th></th>\n",
              "    </tr>\n",
              "  </thead>\n",
              "  <tbody>\n",
              "    <tr>\n",
              "      <th>1</th>\n",
              "      <td>-0.9949</td>\n",
              "      <td>-0.363780</td>\n",
              "      <td>0.9864</td>\n",
              "    </tr>\n",
              "    <tr>\n",
              "      <th>2</th>\n",
              "      <td>-0.9944</td>\n",
              "      <td>-0.282236</td>\n",
              "      <td>0.9748</td>\n",
              "    </tr>\n",
              "    <tr>\n",
              "      <th>3</th>\n",
              "      <td>-0.9921</td>\n",
              "      <td>-0.231103</td>\n",
              "      <td>0.9862</td>\n",
              "    </tr>\n",
              "    <tr>\n",
              "      <th>4</th>\n",
              "      <td>-0.9908</td>\n",
              "      <td>-0.149525</td>\n",
              "      <td>0.9867</td>\n",
              "    </tr>\n",
              "    <tr>\n",
              "      <th>5</th>\n",
              "      <td>-0.9887</td>\n",
              "      <td>-0.117156</td>\n",
              "      <td>0.9864</td>\n",
              "    </tr>\n",
              "    <tr>\n",
              "      <th>6</th>\n",
              "      <td>-0.9924</td>\n",
              "      <td>-0.053219</td>\n",
              "      <td>0.9882</td>\n",
              "    </tr>\n",
              "    <tr>\n",
              "      <th>7</th>\n",
              "      <td>-0.9901</td>\n",
              "      <td>0.022650</td>\n",
              "      <td>0.9935</td>\n",
              "    </tr>\n",
              "    <tr>\n",
              "      <th>8</th>\n",
              "      <td>-0.9936</td>\n",
              "      <td>0.080295</td>\n",
              "      <td>0.9828</td>\n",
              "    </tr>\n",
              "    <tr>\n",
              "      <th>9</th>\n",
              "      <td>-0.9946</td>\n",
              "      <td>0.129710</td>\n",
              "      <td>0.9911</td>\n",
              "    </tr>\n",
              "    <tr>\n",
              "      <th>10</th>\n",
              "      <td>-0.9978</td>\n",
              "      <td>0.175318</td>\n",
              "      <td>0.9888</td>\n",
              "    </tr>\n",
              "  </tbody>\n",
              "</table>\n",
              "</div>"
            ],
            "text/plain": [
              "       sentiment                  \n",
              "             min      mean     max\n",
              "rating                            \n",
              "1        -0.9949 -0.363780  0.9864\n",
              "2        -0.9944 -0.282236  0.9748\n",
              "3        -0.9921 -0.231103  0.9862\n",
              "4        -0.9908 -0.149525  0.9867\n",
              "5        -0.9887 -0.117156  0.9864\n",
              "6        -0.9924 -0.053219  0.9882\n",
              "7        -0.9901  0.022650  0.9935\n",
              "8        -0.9936  0.080295  0.9828\n",
              "9        -0.9946  0.129710  0.9911\n",
              "10       -0.9978  0.175318  0.9888"
            ]
          },
          "execution_count": 25,
          "metadata": {},
          "output_type": "execute_result"
        }
      ],
      "source": [
        "# lets check Impact of Sentiment on Reviews\n",
        "data[['rating','sentiment']].groupby(['rating']).agg(['min','mean','max'])"
      ]
    },
    {
      "cell_type": "code",
      "execution_count": 26,
      "id": "6046ba68",
      "metadata": {
        "colab": {
          "base_uri": "https://localhost:8080/"
        },
        "execution": {
          "iopub.execute_input": "2022-05-26T22:32:23.107522Z",
          "iopub.status.busy": "2022-05-26T22:32:23.106830Z",
          "iopub.status.idle": "2022-05-26T22:32:23.149649Z",
          "shell.execute_reply": "2022-05-26T22:32:23.148231Z"
        },
        "id": "6046ba68",
        "outputId": "c8d326aa-135c-4fb6-976d-9f92f1bac11d",
        "papermill": {
          "duration": 0.060953,
          "end_time": "2022-05-26T22:32:23.152495",
          "exception": false,
          "start_time": "2022-05-26T22:32:23.091542",
          "status": "completed"
        },
        "tags": []
      },
      "outputs": [
        {
          "data": {
            "text/plain": [
              "Index(['drugName', 'condition', 'review', 'rating', 'usefulCount',\n",
              "       'treatments'],\n",
              "      dtype='object')"
            ]
          },
          "execution_count": 26,
          "metadata": {},
          "output_type": "execute_result"
        }
      ],
      "source": [
        "# as we can see that Sentiment and length of the review are not related to Reviews, we will drop the sentiment column\n",
        "\n",
        "# lets remove the unique Id, date, review, len, and sentiment column also\n",
        "data = data.drop(['Unnamed: 0','date','Unnamed: 0.1','sentiment','len'], axis = 1)\n",
        "\n",
        "# lets check the name of columns now\n",
        "data.columns"
      ]
    },
    {
      "cell_type": "markdown",
      "id": "85ab421d",
      "metadata": {
        "id": "85ab421d",
        "papermill": {
          "duration": 0.013371,
          "end_time": "2022-05-26T22:32:23.181322",
          "exception": false,
          "start_time": "2022-05-26T22:32:23.167951",
          "status": "completed"
        },
        "tags": []
      },
      "source": [
        "### Calculating Effectiveness and Usefulness of Drugs"
      ]
    },
    {
      "cell_type": "code",
      "execution_count": 27,
      "id": "f01f8a1b",
      "metadata": {
        "execution": {
          "iopub.execute_input": "2022-05-26T22:32:23.212146Z",
          "iopub.status.busy": "2022-05-26T22:32:23.211527Z",
          "iopub.status.idle": "2022-05-26T22:32:24.083872Z",
          "shell.execute_reply": "2022-05-26T22:32:24.082675Z"
        },
        "id": "f01f8a1b",
        "papermill": {
          "duration": 0.891106,
          "end_time": "2022-05-26T22:32:24.086521",
          "exception": false,
          "start_time": "2022-05-26T22:32:23.195415",
          "status": "completed"
        },
        "tags": []
      },
      "outputs": [],
      "source": [
        "# Lets Calculate an Effective Rating\n",
        "\n",
        "min_rating = data['rating'].min()\n",
        "max_rating = data['rating'].max()\n",
        "\n",
        "def scale_rating(rating):\n",
        "    rating -= min_rating\n",
        "    rating = rating/(max_rating -1)\n",
        "    rating *= 5\n",
        "    rating = int(round(rating,0))\n",
        "    \n",
        "    if(int(rating) == 0 or int(rating)==1 or int(rating)==2):\n",
        "        return 0\n",
        "    else:\n",
        "        return 1\n",
        "    \n",
        "data['eff_score'] = data['rating'].apply(scale_rating)"
      ]
    },
    {
      "cell_type": "code",
      "execution_count": 28,
      "id": "44efaefd",
      "metadata": {
        "colab": {
          "base_uri": "https://localhost:8080/",
          "height": 359
        },
        "execution": {
          "iopub.execute_input": "2022-05-26T22:32:24.116841Z",
          "iopub.status.busy": "2022-05-26T22:32:24.116057Z",
          "iopub.status.idle": "2022-05-26T22:32:24.149459Z",
          "shell.execute_reply": "2022-05-26T22:32:24.148345Z"
        },
        "id": "44efaefd",
        "outputId": "1bc50c12-5b6c-48ad-ec12-7db0350ae12a",
        "papermill": {
          "duration": 0.051479,
          "end_time": "2022-05-26T22:32:24.151736",
          "exception": false,
          "start_time": "2022-05-26T22:32:24.100257",
          "status": "completed"
        },
        "tags": []
      },
      "outputs": [
        {
          "data": {
            "text/html": [
              "<div>\n",
              "<style scoped>\n",
              "    .dataframe tbody tr th:only-of-type {\n",
              "        vertical-align: middle;\n",
              "    }\n",
              "\n",
              "    .dataframe tbody tr th {\n",
              "        vertical-align: top;\n",
              "    }\n",
              "\n",
              "    .dataframe thead th {\n",
              "        text-align: right;\n",
              "    }\n",
              "</style>\n",
              "<table border=\"1\" class=\"dataframe\">\n",
              "  <thead>\n",
              "    <tr style=\"text-align: right;\">\n",
              "      <th></th>\n",
              "      <th>drugName</th>\n",
              "      <th>condition</th>\n",
              "      <th>usefulness</th>\n",
              "    </tr>\n",
              "  </thead>\n",
              "  <tbody>\n",
              "    <tr>\n",
              "      <th>0</th>\n",
              "      <td>Sertraline</td>\n",
              "      <td>Depression</td>\n",
              "      <td>8541</td>\n",
              "    </tr>\n",
              "    <tr>\n",
              "      <th>1</th>\n",
              "      <td>Etonogestrel</td>\n",
              "      <td>Birth Control</td>\n",
              "      <td>7300</td>\n",
              "    </tr>\n",
              "    <tr>\n",
              "      <th>2</th>\n",
              "      <td>Sertraline</td>\n",
              "      <td>Depression</td>\n",
              "      <td>6800</td>\n",
              "    </tr>\n",
              "    <tr>\n",
              "      <th>3</th>\n",
              "      <td>OxyContin</td>\n",
              "      <td>Pain</td>\n",
              "      <td>6255</td>\n",
              "    </tr>\n",
              "    <tr>\n",
              "      <th>4</th>\n",
              "      <td>Oxycodone</td>\n",
              "      <td>Pain</td>\n",
              "      <td>6255</td>\n",
              "    </tr>\n",
              "    <tr>\n",
              "      <th>5</th>\n",
              "      <td>Cymbalta</td>\n",
              "      <td>Depression</td>\n",
              "      <td>6210</td>\n",
              "    </tr>\n",
              "    <tr>\n",
              "      <th>6</th>\n",
              "      <td>Sertraline</td>\n",
              "      <td>Depression</td>\n",
              "      <td>5796</td>\n",
              "    </tr>\n",
              "    <tr>\n",
              "      <th>7</th>\n",
              "      <td>Buspirone</td>\n",
              "      <td>Anxiety</td>\n",
              "      <td>5265</td>\n",
              "    </tr>\n",
              "    <tr>\n",
              "      <th>8</th>\n",
              "      <td>Citalopram</td>\n",
              "      <td>Depression</td>\n",
              "      <td>5031</td>\n",
              "    </tr>\n",
              "    <tr>\n",
              "      <th>9</th>\n",
              "      <td>Prozac</td>\n",
              "      <td>Anxiety and Stress</td>\n",
              "      <td>4860</td>\n",
              "    </tr>\n",
              "  </tbody>\n",
              "</table>\n",
              "</div>"
            ],
            "text/plain": [
              "       drugName           condition  usefulness\n",
              "0    Sertraline          Depression        8541\n",
              "1  Etonogestrel       Birth Control        7300\n",
              "2    Sertraline          Depression        6800\n",
              "3     OxyContin                Pain        6255\n",
              "4     Oxycodone                Pain        6255\n",
              "5      Cymbalta          Depression        6210\n",
              "6    Sertraline          Depression        5796\n",
              "7     Buspirone             Anxiety        5265\n",
              "8    Citalopram          Depression        5031\n",
              "9        Prozac  Anxiety and Stress        4860"
            ]
          },
          "execution_count": 28,
          "metadata": {},
          "output_type": "execute_result"
        }
      ],
      "source": [
        "# lets also calculate Usefulness Score\n",
        "data['usefulness'] = data['rating']*data['usefulCount']*data['eff_score']\n",
        "\n",
        "# lets check the Top 10 Most Useful Drugs with their Respective Conditions\n",
        "data[['drugName','condition','usefulness']][data['usefulness'] > \n",
        "                            data['usefulness'].mean()].sort_values(by = 'usefulness', \n",
        "                                        ascending = False).head(10).reset_index(drop = True)"
      ]
    },
    {
      "cell_type": "markdown",
      "id": "7d311dd6",
      "metadata": {
        "id": "7d311dd6",
        "papermill": {
          "duration": 0.013818,
          "end_time": "2022-05-26T22:32:24.180279",
          "exception": false,
          "start_time": "2022-05-26T22:32:24.166461",
          "status": "completed"
        },
        "tags": []
      },
      "source": [
        "### Analyzing the Medical Condtitions"
      ]
    },
    {
      "cell_type": "code",
      "execution_count": 29,
      "id": "adad7c25",
      "metadata": {
        "execution": {
          "iopub.execute_input": "2022-05-26T22:32:24.211283Z",
          "iopub.status.busy": "2022-05-26T22:32:24.210810Z",
          "iopub.status.idle": "2022-05-26T22:32:24.306122Z",
          "shell.execute_reply": "2022-05-26T22:32:24.304951Z"
        },
        "id": "adad7c25",
        "papermill": {
          "duration": 0.114427,
          "end_time": "2022-05-26T22:32:24.309560",
          "exception": false,
          "start_time": "2022-05-26T22:32:24.195133",
          "status": "completed"
        },
        "tags": []
      },
      "outputs": [],
      "source": [
        "# lets calculate the Number of Useless and Useful Drugs for Each Condition\n",
        "\n",
        "def check(condition = list(data['condition'].value_counts().index)):\n",
        "    return data[data['condition'] == condition]['eff_score'].value_counts()"
      ]
    },
    {
      "cell_type": "code",
      "execution_count": 30,
      "id": "14beb52d",
      "metadata": {
        "colab": {
          "base_uri": "https://localhost:8080/"
        },
        "execution": {
          "iopub.execute_input": "2022-05-26T22:32:26.835362Z",
          "iopub.status.busy": "2022-05-26T22:32:26.834934Z",
          "iopub.status.idle": "2022-05-26T22:32:26.876596Z",
          "shell.execute_reply": "2022-05-26T22:32:26.875042Z"
        },
        "id": "14beb52d",
        "outputId": "38de93b4-bbf7-41e6-ad25-5e55b3c434cd",
        "papermill": {
          "duration": 0.060453,
          "end_time": "2022-05-26T22:32:26.879158",
          "exception": false,
          "start_time": "2022-05-26T22:32:26.818705",
          "status": "completed"
        },
        "tags": []
      },
      "outputs": [
        {
          "name": "stdout",
          "output_type": "stream",
          "text": [
            "Number of Unique Conditions : 641\n"
          ]
        },
        {
          "data": {
            "text/plain": [
              "condition\n",
              "Birth Control                              9648\n",
              "Depression                                 3095\n",
              "Pain                                       2100\n",
              "Anxiety                                    1908\n",
              "Acne                                       1847\n",
              "                                           ... \n",
              "Myotonia Congenita                            1\n",
              "Nasal Carriage of Staphylococcus aureus       1\n",
              "Nausea                                        1\n",
              "Nephrotic Syndrome                            1\n",
              "Zollinger-Ellison Syndrome                    1\n",
              "Name: count, Length: 641, dtype: int64"
            ]
          },
          "execution_count": 30,
          "metadata": {},
          "output_type": "execute_result"
        }
      ],
      "source": [
        "# lets check the Most Common Conditions\n",
        "\n",
        "print(\"Number of Unique Conditions :\", data['condition'].nunique())\n",
        "data['condition'].value_counts().head(10)\n"
      ]
    },
    {
      "cell_type": "code",
      "execution_count": 31,
      "id": "8a43c089",
      "metadata": {
        "colab": {
          "base_uri": "https://localhost:8080/",
          "height": 359
        },
        "execution": {
          "iopub.execute_input": "2022-05-26T22:32:26.911815Z",
          "iopub.status.busy": "2022-05-26T22:32:26.911223Z",
          "iopub.status.idle": "2022-05-26T22:32:26.935346Z",
          "shell.execute_reply": "2022-05-26T22:32:26.934469Z"
        },
        "id": "8a43c089",
        "outputId": "fa7fb172-8e7f-425d-cd21-330a442efe7b",
        "papermill": {
          "duration": 0.043347,
          "end_time": "2022-05-26T22:32:26.937688",
          "exception": false,
          "start_time": "2022-05-26T22:32:26.894341",
          "status": "completed"
        },
        "tags": []
      },
      "outputs": [
        {
          "data": {
            "text/html": [
              "<div>\n",
              "<style scoped>\n",
              "    .dataframe tbody tr th:only-of-type {\n",
              "        vertical-align: middle;\n",
              "    }\n",
              "\n",
              "    .dataframe tbody tr th {\n",
              "        vertical-align: top;\n",
              "    }\n",
              "\n",
              "    .dataframe thead th {\n",
              "        text-align: right;\n",
              "    }\n",
              "</style>\n",
              "<table border=\"1\" class=\"dataframe\">\n",
              "  <thead>\n",
              "    <tr style=\"text-align: right;\">\n",
              "      <th></th>\n",
              "      <th>drugName</th>\n",
              "      <th>usefulCount</th>\n",
              "    </tr>\n",
              "  </thead>\n",
              "  <tbody>\n",
              "    <tr>\n",
              "      <th>0</th>\n",
              "      <td>Sertraline</td>\n",
              "      <td>949</td>\n",
              "    </tr>\n",
              "    <tr>\n",
              "      <th>1</th>\n",
              "      <td>Etonogestrel</td>\n",
              "      <td>730</td>\n",
              "    </tr>\n",
              "    <tr>\n",
              "      <th>2</th>\n",
              "      <td>OxyContin</td>\n",
              "      <td>695</td>\n",
              "    </tr>\n",
              "    <tr>\n",
              "      <th>3</th>\n",
              "      <td>Oxycodone</td>\n",
              "      <td>695</td>\n",
              "    </tr>\n",
              "    <tr>\n",
              "      <th>4</th>\n",
              "      <td>Sertraline</td>\n",
              "      <td>680</td>\n",
              "    </tr>\n",
              "    <tr>\n",
              "      <th>5</th>\n",
              "      <td>Sertraline</td>\n",
              "      <td>644</td>\n",
              "    </tr>\n",
              "    <tr>\n",
              "      <th>6</th>\n",
              "      <td>Cymbalta</td>\n",
              "      <td>621</td>\n",
              "    </tr>\n",
              "    <tr>\n",
              "      <th>7</th>\n",
              "      <td>Buspirone</td>\n",
              "      <td>585</td>\n",
              "    </tr>\n",
              "    <tr>\n",
              "      <th>8</th>\n",
              "      <td>Citalopram</td>\n",
              "      <td>559</td>\n",
              "    </tr>\n",
              "    <tr>\n",
              "      <th>9</th>\n",
              "      <td>Vilazodone</td>\n",
              "      <td>513</td>\n",
              "    </tr>\n",
              "  </tbody>\n",
              "</table>\n",
              "</div>"
            ],
            "text/plain": [
              "       drugName  usefulCount\n",
              "0    Sertraline          949\n",
              "1  Etonogestrel          730\n",
              "2     OxyContin          695\n",
              "3     Oxycodone          695\n",
              "4    Sertraline          680\n",
              "5    Sertraline          644\n",
              "6      Cymbalta          621\n",
              "7     Buspirone          585\n",
              "8    Citalopram          559\n",
              "9    Vilazodone          513"
            ]
          },
          "execution_count": 31,
          "metadata": {},
          "output_type": "execute_result"
        }
      ],
      "source": [
        "# lets check Drugs, which were useful to Highest Number of Poeple\n",
        "data[['drugName','usefulCount']][data['usefulCount'] >\n",
        "                    data['usefulCount'].mean()].sort_values(by = 'usefulCount',\n",
        "                                        ascending = False).head(10).reset_index(drop = True)"
      ]
    },
    {
      "cell_type": "markdown",
      "id": "296833ae",
      "metadata": {
        "id": "296833ae",
        "papermill": {
          "duration": 0.016528,
          "end_time": "2022-05-26T22:32:26.969706",
          "exception": false,
          "start_time": "2022-05-26T22:32:26.953178",
          "status": "completed"
        },
        "tags": []
      },
      "source": [
        "### Finding Most Useful and Useless Drugs for each Condition"
      ]
    },
    {
      "cell_type": "code",
      "execution_count": 32,
      "id": "7yz3KGVZXY8P",
      "metadata": {
        "id": "7yz3KGVZXY8P"
      },
      "outputs": [],
      "source": [
        "# lets remove all the Duplicates from the Dataset\n",
        "data = data.drop_duplicates()"
      ]
    },
    {
      "cell_type": "code",
      "execution_count": 33,
      "id": "42CO4tP3-4q1",
      "metadata": {
        "colab": {
          "base_uri": "https://localhost:8080/"
        },
        "id": "42CO4tP3-4q1",
        "outputId": "b309043c-9065-4941-9ca0-5238533da6cf"
      },
      "outputs": [
        {
          "data": {
            "text/plain": [
              "(52915, 8)"
            ]
          },
          "execution_count": 33,
          "metadata": {},
          "output_type": "execute_result"
        }
      ],
      "source": [
        "data.shape"
      ]
    },
    {
      "cell_type": "code",
      "execution_count": 34,
      "id": "f1e36500",
      "metadata": {
        "execution": {
          "iopub.execute_input": "2022-05-26T22:32:27.099746Z",
          "iopub.status.busy": "2022-05-26T22:32:27.099274Z",
          "iopub.status.idle": "2022-05-26T22:32:27.203543Z",
          "shell.execute_reply": "2022-05-26T22:32:27.202756Z"
        },
        "id": "f1e36500",
        "papermill": {
          "duration": 0.126483,
          "end_time": "2022-05-26T22:32:27.207837",
          "exception": false,
          "start_time": "2022-05-26T22:32:27.081354",
          "status": "completed"
        },
        "tags": []
      },
      "outputs": [],
      "source": [
        "# lets find the Highest and Lowest Rated Drugs for each Condition\n",
        "\n",
        "def high_low_rate(condition = list(data['condition'].value_counts().index)):\n",
        "    print(\"\\n Top 5 Drugs\")\n",
        "    print(data[data['condition'] == condition][['drugName','usefulness']].sort_values(by = 'usefulness',\n",
        "                                                 ascending = False).head().reset_index(drop = True))\n",
        "    print(\"\\n\\n Bottom 5 Drugs\")\n",
        "    print(data[data['condition'] == condition][['drugName','usefulness']].sort_values(by = 'usefulness',\n",
        "                                                 ascending = True).head().reset_index(drop = True))"
      ]
    },
    {
      "cell_type": "code",
      "execution_count": 35,
      "id": "b1d56776",
      "metadata": {},
      "outputs": [
        {
          "name": "stdout",
          "output_type": "stream",
          "text": [
            "Recommended medicines for Bipolar Disorder: ['Topamax', 'Eskalith', 'Gabapentin', 'Effexor', 'Trileptal']\n"
          ]
        }
      ],
      "source": [
        "def recommend_medicines_by_condition(condition, data, num_recommendations=4):\n",
        "    condition_data = data[data['condition'] == condition]\n",
        "    \n",
        "    if condition_data.empty:\n",
        "        return \"No data available for this condition.\"\n",
        "    \n",
        "    avg_usefulness_by_drug = condition_data.groupby('drugName')['usefulness'].mean()\n",
        "    recommended_medicines = avg_usefulness_by_drug.nlargest(num_recommendations).index.tolist()\n",
        "    \n",
        "    return recommended_medicines\n",
        "\n",
        "# Example usage\n",
        "recommended_medicines = recommend_medicines_by_condition('Bipolar Disorder', data, num_recommendations=5)\n",
        "print(f\"Recommended medicines for Bipolar Disorder: {recommended_medicines}\")\n"
      ]
    }
  ],
  "metadata": {
    "colab": {
      "provenance": []
    },
    "kernelspec": {
      "display_name": "Python 3",
      "language": "python",
      "name": "python3"
    },
    "language_info": {
      "codemirror_mode": {
        "name": "ipython",
        "version": 3
      },
      "file_extension": ".py",
      "mimetype": "text/x-python",
      "name": "python",
      "nbconvert_exporter": "python",
      "pygments_lexer": "ipython3",
      "version": "3.11.5"
    },
    "papermill": {
      "default_parameters": {},
      "duration": 282.369071,
      "end_time": "2022-05-26T22:32:28.149229",
      "environment_variables": {},
      "exception": null,
      "input_path": "__notebook__.ipynb",
      "output_path": "__notebook__.ipynb",
      "parameters": {},
      "start_time": "2022-05-26T22:27:45.780158",
      "version": "2.3.4"
    }
  },
  "nbformat": 4,
  "nbformat_minor": 5
}
